{
  "nbformat": 4,
  "nbformat_minor": 0,
  "metadata": {
    "colab": {
      "provenance": []
    },
    "kernelspec": {
      "name": "python3",
      "display_name": "Python 3"
    },
    "language_info": {
      "name": "python"
    }
  },
  "cells": [
    {
      "cell_type": "code",
      "execution_count": 1,
      "metadata": {
        "id": "UBgrO6GNgQ9h"
      },
      "outputs": [],
      "source": [
        "import sqlite3\n",
        "import pandas as pd\n",
        "import matplotlib.pyplot as plt\n"
      ]
    },
    {
      "cell_type": "code",
      "source": [
        "\n",
        "conn = sqlite3.connect('sales_data.db')\n",
        "cursor = conn.cursor()\n"
      ],
      "metadata": {
        "id": "EJwLq2VDh0G3"
      },
      "execution_count": 2,
      "outputs": []
    },
    {
      "cell_type": "code",
      "source": [
        "\n",
        "cursor.execute('''\n",
        "    CREATE TABLE IF NOT EXISTS sales (\n",
        "        id INTEGER PRIMARY KEY,\n",
        "        product TEXT,\n",
        "        quantity INTEGER,\n",
        "        price REAL\n",
        "    )\n",
        "''')\n"
      ],
      "metadata": {
        "colab": {
          "base_uri": "https://localhost:8080/"
        },
        "id": "MkEqgxN_h3Hk",
        "outputId": "eab162d8-27e9-4fc9-d8ee-304c394a0ef6"
      },
      "execution_count": 3,
      "outputs": [
        {
          "output_type": "execute_result",
          "data": {
            "text/plain": [
              "<sqlite3.Cursor at 0x7a84a75e90c0>"
            ]
          },
          "metadata": {},
          "execution_count": 3
        }
      ]
    },
    {
      "cell_type": "code",
      "source": [
        "\n",
        "cursor.execute(\"SELECT COUNT(*) FROM sales\")\n",
        "if cursor.fetchone()[0] == 0:\n",
        "\n",
        "    sample_data = [\n",
        "        ('Apple', 10, 0.5),\n",
        "        ('Banana', 20, 0.3),\n",
        "        ('Orange', 15, 0.7),\n",
        "        ('Apple', 5, 0.5),\n",
        "        ('Banana', 10, 0.3)\n",
        "    ]\n",
        "    cursor.executemany(\"INSERT INTO sales (product, quantity, price) VALUES (?, ?, ?)\", sample_data)\n",
        "    conn.commit()\n"
      ],
      "metadata": {
        "id": "hBZ9x5ifh6hK"
      },
      "execution_count": 4,
      "outputs": []
    },
    {
      "cell_type": "code",
      "source": [
        "\n",
        "query = '''\n",
        "    SELECT product,\n",
        "           SUM(quantity) AS total_qty,\n",
        "           SUM(quantity * price) AS revenue\n",
        "    FROM sales\n",
        "    GROUP BY product\n",
        "'''\n",
        "\n",
        "df = pd.read_sql_query(query, conn)\n"
      ],
      "metadata": {
        "id": "s4gDp3voiHM6"
      },
      "execution_count": 5,
      "outputs": []
    },
    {
      "cell_type": "code",
      "source": [
        "print(\"Sales Summary:\\n\")\n",
        "print(df)\n"
      ],
      "metadata": {
        "colab": {
          "base_uri": "https://localhost:8080/"
        },
        "id": "KJmnq7ukiK5s",
        "outputId": "724df7a1-a6de-480a-af0f-8fc99bdfc96b"
      },
      "execution_count": 6,
      "outputs": [
        {
          "output_type": "stream",
          "name": "stdout",
          "text": [
            "Sales Summary:\n",
            "\n",
            "  product  total_qty  revenue\n",
            "0   Apple         15      7.5\n",
            "1  Banana         30      9.0\n",
            "2  Orange         15     10.5\n"
          ]
        }
      ]
    },
    {
      "cell_type": "code",
      "source": [
        "\n",
        "df.plot(kind='bar', x='product', y='revenue', legend=False)\n",
        "plt.title('Revenue by Product')\n",
        "plt.ylabel('Revenue ($)')\n",
        "plt.xlabel('Product')\n",
        "plt.tight_layout()\n",
        "plt.savefig(\"sales_chart.png\")\n",
        "plt.show()\n"
      ],
      "metadata": {
        "colab": {
          "base_uri": "https://localhost:8080/",
          "height": 487
        },
        "id": "amR-uT3wiQ6U",
        "outputId": "3a5698a2-3259-4deb-d92b-f08c91a2d2fc"
      },
      "execution_count": 7,
      "outputs": [
        {
          "output_type": "display_data",
          "data": {
            "text/plain": [
              "<Figure size 640x480 with 1 Axes>"
            ],
            "image/png": "[encoded data removed]"
          },
          "metadata": {}
        }
      ]
    },
    {
      "cell_type": "code",
      "source": [
        "conn.close()\n"
      ],
      "metadata": {
        "id": "GIBi0aIQiTqd"
      },
      "execution_count": 8,
      "outputs": []
    }
  ]
}